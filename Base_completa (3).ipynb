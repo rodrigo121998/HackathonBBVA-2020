{
 "cells": [
  {
   "cell_type": "code",
   "execution_count": 512,
   "metadata": {},
   "outputs": [],
   "source": [
    "import pandas as pd\n",
    "import numpy as np\n",
    "import matplotlib.pyplot as plt\n",
    "import seaborn as sns\n",
    "from fancyimpute import KNN"
   ]
  },
  {
   "cell_type": "code",
   "execution_count": 15,
   "metadata": {},
   "outputs": [],
   "source": [
    "ranking=pd.read_csv('dbRanking.csv',sep='|')\n",
    "sunarp = pd.read_csv('dbSunarp.csv',sep='|')\n",
    "sunat = pd.read_csv('dbSunat.csv',sep='|')\n",
    "trans=pd.read_csv('dbTransacPyme_v2.csv',sep='|')\n",
    "digital=pd.read_csv('dbAfilDigital.csv',sep='|')\n",
    "rcc = pd.read_csv(\"dbRcc.csv\", sep='|')\n",
    "data = pd.read_csv('dbUniverso.csv',sep='|',low_memory=False)"
   ]
  },
  {
   "cell_type": "code",
   "execution_count": 486,
   "metadata": {},
   "outputs": [],
   "source": [
    "trans=pd.read_csv('dbTransacPyme_v2.csv',sep='|')"
   ]
  },
  {
   "cell_type": "markdown",
   "metadata": {},
   "source": [
    "# Universo"
   ]
  },
  {
   "cell_type": "code",
   "execution_count": 117,
   "metadata": {},
   "outputs": [],
   "source": [
    "data.taxpayer_id=data.taxpayer_id.replace('914323    J','-1').astype('int64')\n",
    "data.personal_id=data.personal_id.replace('914323    J','-1').astype('int64')\n",
    "#data=data.drop(columns=['cutoff_date','segmento'])\n",
    "data.personal_type=data.personal_type.replace(['L','R'],[0,1])\n",
    "data.marital_status_type=data.marital_status_type.replace(['S','C','D','V','X','F','Y','U'],[0,1,2,3,4,5,6,7])\n",
    "data.gender_type=data.gender_type.replace(['M','F'],[0,1])\n",
    "data['age']=2020-data.birth_date\n",
    "data=data.replace(np.nan,-1)"
   ]
  },
  {
   "cell_type": "markdown",
   "metadata": {},
   "source": [
    "# Ranking"
   ]
  },
  {
   "cell_type": "code",
   "execution_count": 48,
   "metadata": {},
   "outputs": [
    {
     "name": "stderr",
     "output_type": "stream",
     "text": [
      "C:\\Users\\Bucanero2010\\AppData\\Roaming\\Python\\Python37\\site-packages\\pandas\\core\\generic.py:5159: SettingWithCopyWarning: \n",
      "A value is trying to be set on a copy of a slice from a DataFrame.\n",
      "Try using .loc[row_indexer,col_indexer] = value instead\n",
      "\n",
      "See the caveats in the documentation: https://pandas.pydata.org/pandas-docs/stable/user_guide/indexing.html#returning-a-view-versus-a-copy\n",
      "  object.__setattr__(self, name, value)\n"
     ]
    },
    {
     "name": "stdout",
     "output_type": "stream",
     "text": [
      "Imputing row 1/13179 with 0 missing, elapsed time: 481.318\n",
      "Imputing row 101/13179 with 1 missing, elapsed time: 481.324\n",
      "Imputing row 201/13179 with 1 missing, elapsed time: 481.330\n",
      "Imputing row 301/13179 with 0 missing, elapsed time: 481.336\n",
      "Imputing row 401/13179 with 0 missing, elapsed time: 481.339\n",
      "Imputing row 501/13179 with 0 missing, elapsed time: 481.343\n",
      "Imputing row 601/13179 with 0 missing, elapsed time: 481.347\n",
      "Imputing row 701/13179 with 0 missing, elapsed time: 481.353\n",
      "Imputing row 801/13179 with 0 missing, elapsed time: 481.358\n",
      "Imputing row 901/13179 with 0 missing, elapsed time: 481.363\n",
      "Imputing row 1001/13179 with 0 missing, elapsed time: 481.370\n",
      "Imputing row 1101/13179 with 0 missing, elapsed time: 481.375\n",
      "Imputing row 1201/13179 with 0 missing, elapsed time: 481.381\n",
      "Imputing row 1301/13179 with 0 missing, elapsed time: 481.387\n",
      "Imputing row 1401/13179 with 0 missing, elapsed time: 481.393\n",
      "Imputing row 1501/13179 with 0 missing, elapsed time: 481.400\n",
      "Imputing row 1601/13179 with 0 missing, elapsed time: 481.407\n",
      "Imputing row 1701/13179 with 0 missing, elapsed time: 481.413\n",
      "Imputing row 1801/13179 with 0 missing, elapsed time: 481.420\n",
      "Imputing row 1901/13179 with 0 missing, elapsed time: 481.429\n",
      "Imputing row 2001/13179 with 0 missing, elapsed time: 481.434\n",
      "Imputing row 2101/13179 with 0 missing, elapsed time: 481.441\n",
      "Imputing row 2201/13179 with 2 missing, elapsed time: 481.448\n",
      "Imputing row 2301/13179 with 0 missing, elapsed time: 481.457\n",
      "Imputing row 2401/13179 with 0 missing, elapsed time: 481.467\n",
      "Imputing row 2501/13179 with 0 missing, elapsed time: 481.471\n",
      "Imputing row 2601/13179 with 0 missing, elapsed time: 481.476\n",
      "Imputing row 2701/13179 with 0 missing, elapsed time: 481.484\n",
      "Imputing row 2801/13179 with 1 missing, elapsed time: 481.493\n",
      "Imputing row 2901/13179 with 1 missing, elapsed time: 481.506\n",
      "Imputing row 3001/13179 with 0 missing, elapsed time: 481.513\n",
      "Imputing row 3101/13179 with 0 missing, elapsed time: 481.520\n",
      "Imputing row 3201/13179 with 0 missing, elapsed time: 481.526\n",
      "Imputing row 3301/13179 with 0 missing, elapsed time: 481.532\n",
      "Imputing row 3401/13179 with 0 missing, elapsed time: 481.537\n",
      "Imputing row 3501/13179 with 0 missing, elapsed time: 481.545\n",
      "Imputing row 3601/13179 with 0 missing, elapsed time: 481.549\n",
      "Imputing row 3701/13179 with 1 missing, elapsed time: 481.554\n",
      "Imputing row 3801/13179 with 1 missing, elapsed time: 481.558\n",
      "Imputing row 3901/13179 with 0 missing, elapsed time: 481.564\n",
      "Imputing row 4001/13179 with 0 missing, elapsed time: 481.570\n",
      "Imputing row 4101/13179 with 1 missing, elapsed time: 481.574\n",
      "Imputing row 4201/13179 with 0 missing, elapsed time: 481.580\n",
      "Imputing row 4301/13179 with 0 missing, elapsed time: 481.588\n",
      "Imputing row 4401/13179 with 0 missing, elapsed time: 481.595\n",
      "Imputing row 4501/13179 with 0 missing, elapsed time: 481.601\n",
      "Imputing row 4601/13179 with 0 missing, elapsed time: 481.605\n",
      "Imputing row 4701/13179 with 0 missing, elapsed time: 481.608\n",
      "Imputing row 4801/13179 with 0 missing, elapsed time: 481.613\n",
      "Imputing row 4901/13179 with 1 missing, elapsed time: 481.617\n",
      "Imputing row 5001/13179 with 0 missing, elapsed time: 481.622\n",
      "Imputing row 5101/13179 with 0 missing, elapsed time: 481.625\n",
      "Imputing row 5201/13179 with 0 missing, elapsed time: 481.631\n",
      "Imputing row 5301/13179 with 0 missing, elapsed time: 481.637\n",
      "Imputing row 5401/13179 with 0 missing, elapsed time: 481.643\n",
      "Imputing row 5501/13179 with 0 missing, elapsed time: 481.651\n",
      "Imputing row 5601/13179 with 0 missing, elapsed time: 481.656\n",
      "Imputing row 5701/13179 with 1 missing, elapsed time: 481.663\n",
      "Imputing row 5801/13179 with 1 missing, elapsed time: 481.669\n",
      "Imputing row 5901/13179 with 0 missing, elapsed time: 481.672\n",
      "Imputing row 6001/13179 with 0 missing, elapsed time: 481.678\n",
      "Imputing row 6101/13179 with 0 missing, elapsed time: 481.682\n",
      "Imputing row 6201/13179 with 1 missing, elapsed time: 481.693\n",
      "Imputing row 6301/13179 with 0 missing, elapsed time: 481.700\n",
      "Imputing row 6401/13179 with 0 missing, elapsed time: 481.705\n",
      "Imputing row 6501/13179 with 1 missing, elapsed time: 481.711\n",
      "Imputing row 6601/13179 with 1 missing, elapsed time: 481.717\n",
      "Imputing row 6701/13179 with 0 missing, elapsed time: 481.722\n",
      "Imputing row 6801/13179 with 0 missing, elapsed time: 481.727\n",
      "Imputing row 6901/13179 with 0 missing, elapsed time: 481.732\n",
      "Imputing row 7001/13179 with 0 missing, elapsed time: 481.739\n",
      "Imputing row 7101/13179 with 0 missing, elapsed time: 481.743\n",
      "Imputing row 7201/13179 with 0 missing, elapsed time: 481.749\n",
      "Imputing row 7301/13179 with 3 missing, elapsed time: 481.751\n",
      "Imputing row 7401/13179 with 0 missing, elapsed time: 481.758\n",
      "Imputing row 7501/13179 with 0 missing, elapsed time: 481.762\n",
      "Imputing row 7601/13179 with 0 missing, elapsed time: 481.767\n",
      "Imputing row 7701/13179 with 0 missing, elapsed time: 481.773\n",
      "Imputing row 7801/13179 with 1 missing, elapsed time: 481.788\n",
      "Imputing row 7901/13179 with 3 missing, elapsed time: 481.797\n",
      "Imputing row 8001/13179 with 0 missing, elapsed time: 481.806\n",
      "Imputing row 8101/13179 with 0 missing, elapsed time: 481.816\n",
      "Imputing row 8201/13179 with 0 missing, elapsed time: 481.825\n",
      "Imputing row 8301/13179 with 0 missing, elapsed time: 481.840\n",
      "Imputing row 8401/13179 with 0 missing, elapsed time: 481.848\n",
      "Imputing row 8501/13179 with 0 missing, elapsed time: 481.860\n",
      "Imputing row 8601/13179 with 1 missing, elapsed time: 481.868\n",
      "Imputing row 8701/13179 with 1 missing, elapsed time: 481.882\n",
      "Imputing row 8801/13179 with 0 missing, elapsed time: 481.895\n",
      "Imputing row 8901/13179 with 0 missing, elapsed time: 481.915\n",
      "Imputing row 9001/13179 with 0 missing, elapsed time: 481.930\n",
      "Imputing row 9101/13179 with 0 missing, elapsed time: 481.937\n",
      "Imputing row 9201/13179 with 0 missing, elapsed time: 481.952\n",
      "Imputing row 9301/13179 with 2 missing, elapsed time: 481.965\n",
      "Imputing row 9401/13179 with 1 missing, elapsed time: 481.971\n",
      "Imputing row 9501/13179 with 0 missing, elapsed time: 481.980\n",
      "Imputing row 9601/13179 with 0 missing, elapsed time: 481.990\n",
      "Imputing row 9701/13179 with 2 missing, elapsed time: 482.003\n",
      "Imputing row 9801/13179 with 0 missing, elapsed time: 482.010\n",
      "Imputing row 9901/13179 with 0 missing, elapsed time: 482.020\n",
      "Imputing row 10001/13179 with 0 missing, elapsed time: 482.026\n",
      "Imputing row 10101/13179 with 0 missing, elapsed time: 482.034\n",
      "Imputing row 10201/13179 with 1 missing, elapsed time: 482.043\n",
      "Imputing row 10301/13179 with 1 missing, elapsed time: 482.059\n",
      "Imputing row 10401/13179 with 0 missing, elapsed time: 482.075\n",
      "Imputing row 10501/13179 with 0 missing, elapsed time: 482.088\n",
      "Imputing row 10601/13179 with 0 missing, elapsed time: 482.100\n",
      "Imputing row 10701/13179 with 0 missing, elapsed time: 482.115\n",
      "Imputing row 10801/13179 with 0 missing, elapsed time: 482.124\n",
      "Imputing row 10901/13179 with 1 missing, elapsed time: 482.133\n",
      "Imputing row 11001/13179 with 0 missing, elapsed time: 482.149\n",
      "Imputing row 11101/13179 with 1 missing, elapsed time: 482.169\n",
      "Imputing row 11201/13179 with 0 missing, elapsed time: 482.178\n",
      "Imputing row 11301/13179 with 0 missing, elapsed time: 482.185\n",
      "Imputing row 11401/13179 with 0 missing, elapsed time: 482.199\n",
      "Imputing row 11501/13179 with 1 missing, elapsed time: 482.209\n",
      "Imputing row 11601/13179 with 0 missing, elapsed time: 482.225\n",
      "Imputing row 11701/13179 with 0 missing, elapsed time: 482.234\n",
      "Imputing row 11801/13179 with 0 missing, elapsed time: 482.244\n",
      "Imputing row 11901/13179 with 1 missing, elapsed time: 482.255\n",
      "Imputing row 12001/13179 with 0 missing, elapsed time: 482.270\n",
      "Imputing row 12101/13179 with 1 missing, elapsed time: 482.287\n",
      "Imputing row 12201/13179 with 0 missing, elapsed time: 482.302\n",
      "Imputing row 12301/13179 with 0 missing, elapsed time: 482.309\n",
      "Imputing row 12401/13179 with 0 missing, elapsed time: 482.322\n",
      "Imputing row 12501/13179 with 1 missing, elapsed time: 482.342\n",
      "Imputing row 12601/13179 with 1 missing, elapsed time: 482.374\n",
      "Imputing row 12701/13179 with 0 missing, elapsed time: 482.394\n",
      "Imputing row 12801/13179 with 1 missing, elapsed time: 482.409\n",
      "Imputing row 12901/13179 with 1 missing, elapsed time: 482.418\n",
      "Imputing row 13001/13179 with 0 missing, elapsed time: 482.430\n",
      "Imputing row 13101/13179 with 0 missing, elapsed time: 482.453\n"
     ]
    }
   ],
   "source": [
    "ranking=ranking[~ranking.company_size_desc.isnull()]\n",
    "ranking.company_size_desc=ranking.company_size_desc.map({'PequeÃ±a empresa / Small-size Company':0,\n",
    "                               'Mediana empresa / Medium-size Company':1,\n",
    "                              'Gran Empresa / Big-size Company':2}).astype('int')\n",
    "ranking=ranking[ranking.company_size_desc!=2]\n",
    "ranking.activity_start_date=ranking.activity_start_date.replace('9999-12-31','2020-12-31')\n",
    "\n",
    "ranking=ranking[~ranking.activity_start_date.isnull()]\n",
    "\n",
    "ranking['activity_start_date']=ranking['activity_start_date'].astype(\"datetime64[ns]\")\n",
    "ranking['start_year']=pd.DatetimeIndex(ranking['activity_start_date']).year.astype('int')\n",
    "ranking['start_month']=pd.DatetimeIndex(ranking['activity_start_date']).month.astype('int')\n",
    "\n",
    "ranking.seniority_company_years_number=np.where(ranking.seniority_company_years_number.isnull(),\n",
    "                                                2018-ranking.start_year,\n",
    "                                                ranking.seniority_company_years_number).astype('int')\n",
    "ranking.start_year=np.where(ranking.start_year==2020,\n",
    "                            2018-ranking.seniority_company_years_number,ranking.start_year).astype('int')\n",
    "\n",
    "ranking.foreign_company_mark_type=ranking.foreign_company_mark_type.replace(np.nan,0).replace('Extranjera',1)\n",
    "ranking.private_public_mark_desc=ranking.private_public_mark_desc.replace('PRIVADA',0).replace('PUBLIC',1)\n",
    "ranking.importer_mark_type=ranking.importer_mark_type.replace('IMPORTADORA',1).replace(np.nan,0).astype('int')\n",
    "ranking.exporter_mark_type=ranking.exporter_mark_type.replace('EXPORTADORA',1).replace(np.nan,0).astype('int')\n",
    "\n",
    "ranking=ranking.drop(columns=['ciiu_spanish_desc','spanish_sector_company_name','activity_start_date','cutoff_date'])\n",
    "for i in ranking.loc[:,'ebitda_2014_amount':].columns:\n",
    "    ranking[i]=ranking[i].replace(np.nan,0)\n",
    "ranking.department_name=ranking.department_name.replace(np.nan,'Lima').replace('Av. JosÃ© GÃ¡lve','Lima')\n",
    "ranking['flag_lima']=(ranking.province_name=='Lima').astype('int')\n",
    "\n",
    "from sklearn import preprocessing\n",
    "le = preprocessing.LabelEncoder()\n",
    "ranking.department_name=le.fit_transform(ranking.department_name).astype('int')\n",
    "ranking.province_name=le.fit_transform(ranking.province_name).astype('int')\n",
    "ranking.district_name=le.fit_transform(ranking.district_name).astype('int')\n",
    "\n",
    "X_filled_knn = KNN(k=3).fit_transform(ranking)\n",
    "filled=pd.DataFrame(X_filled_knn,columns=ranking.columns)\n",
    "\n",
    "ranking=ranking.reset_index().drop(columns=['index'])\n",
    "ranking['branches_number']=filled['branches_number'].astype('int')\n",
    "ranking['employees_number']=filled['employees_number'].astype('int')\n",
    "ranking['market_share_per']=filled['market_share_per']\n",
    "\n",
    "ranking=ranking.drop(columns=['department_name','province_name','district_name','start_month'])\n",
    "\n",
    "aggp={x:['mean'] for x in ranking.columns[2:]}\n",
    "aggp['seniority_company_years_number']=['mean','max','min','std']\n",
    "aggp['market_share_per']=['max','min','std']\n",
    "aggp['start_year']=['max','min','std']\n",
    "aggp['taxpayer_id']=['nunique']\n",
    "ranking=ranking.groupby('company_economic_activity_id').agg(aggp).reset_index()\n",
    "ranking.columns=[a+'_'+b for a,b in ranking.columns]\n",
    "ranking=ranking.replace(np.nan,0)"
   ]
  },
  {
   "cell_type": "markdown",
   "metadata": {},
   "source": [
    "# Sunat"
   ]
  },
  {
   "cell_type": "code",
   "execution_count": 27,
   "metadata": {},
   "outputs": [],
   "source": [
    "no_nulos_sunat=sunat[~pd.isnull(sunat.personal_type)].reset_index().drop(['index'],axis=1)\n",
    "nulos_sunat=sunat[pd.isnull(sunat.personal_type)].reset_index().drop(['index'],axis=1)\n",
    "universo_sunat=data.drop_duplicates(subset=['taxpayer_id'], keep='first')\n",
    "nulos_sunat_universo=nulos_sunat.merge(universo_sunat,left_on='taxpayer_id',right_on='taxpayer_id',how='left')\n",
    "nulos_sunat_universo=nulos_sunat_universo.drop(['personal_type_x','personal_id_x',\n",
    "       'taxpayer_start_date', 'taxpayer_end_date', 'comm_start_date',\n",
    "       'company_economic_activity_id', 'cutoff_date_x','customer_id', 'sbs_customer_id', 'segmento',\n",
    "       'gender_type', 'birth_date', 'marital_status_type', 'admission_date',\n",
    "       'income_monthly_amount', 'cutoff_date_y'],axis=1)\n",
    "sunat_parcial=pd.merge(nulos_sunat_universo,sunat.drop_duplicates(subset=['taxpayer_id'], keep='first'),left_on='taxpayer_id',right_on='taxpayer_id',how='left')\n",
    "sunat_parcial=sunat_parcial.drop(['personal_type','personal_id'],axis=1) \n",
    "sunat_parcial=sunat_parcial.rename(columns={'personal_type_y':'personal_type',\n",
    "                                   'personal_id_y':'personal_id'})\n",
    "sunat_casifinal=pd.concat([no_nulos_sunat, sunat_parcial], axis=0)\n",
    "sunat_casifinal['taxpayer_id']=sunat_casifinal['taxpayer_id'].astype('string')\n",
    "\n",
    "no_nulos_sunat2=sunat_casifinal[~pd.isnull(sunat_casifinal.comm_start_date)].reset_index().drop(['index'],axis=1)\n",
    "ranking_merge=ranking.drop_duplicates(subset=['taxpayer_id'], keep='first').reset_index().drop(['index'],axis=1)\n",
    "ranking_merge['taxpayer_id']=ranking_merge['taxpayer_id'].astype('string')\n",
    "nulos_sunat2=sunat_casifinal[pd.isnull(sunat_casifinal.comm_start_date)].reset_index().drop(['index'],axis=1)\n",
    "nulos_sunat2['taxpayer_id']=nulos_sunat2['taxpayer_id'].astype('string')\n",
    "nulos_sunat_ranking=pd.merge(ranking_merge[['taxpayer_id','activity_start_date']],nulos_sunat2,on='taxpayer_id',how='right')\n",
    "nulos_sunat_ranking=nulos_sunat_ranking[['taxpayer_id', 'personal_type', 'personal_id', 'taxpayer_start_date',\n",
    "       'taxpayer_end_date', 'activity_start_date', 'company_economic_activity_id',\n",
    "       'cutoff_date']]\n",
    "nulos_sunat_ranking=nulos_sunat_ranking.rename(columns={'activity_start_date':'comm_start_date'}) \n",
    "nulos_sunat_ranking=nulos_sunat_ranking.drop(['personal_type','personal_id',\n",
    "       'taxpayer_start_date', 'taxpayer_end_date',\n",
    "       'company_economic_activity_id', 'cutoff_date'],axis=1)\n",
    "sunat_parcial2=pd.merge(nulos_sunat_ranking,sunat_casifinal.drop_duplicates(subset=['taxpayer_id'], keep='first'),left_on='taxpayer_id',right_on='taxpayer_id',how='left')\n",
    "sunat_parcial2=sunat_parcial2.drop(['comm_start_date_y'],axis=1)\n",
    "sunat_parcial2=sunat_parcial2.rename(columns={'comm_start_date_x':'comm_start_date'})\n",
    "sunat_final=pd.concat([no_nulos_sunat2, sunat_parcial2], axis=0)\n",
    "\n",
    "sunat_final['taxpayer_start_date']=pd.to_datetime(sunat_final['taxpayer_start_date'], format='%Y-%m-%d')\n",
    "sunat_final['taxpayer_end_date']=sunat_final['taxpayer_end_date'].replace('9999-12-31','2100-12-31')\n",
    "sunat_final['taxpayer_end_date']=pd.to_datetime(sunat_final['taxpayer_end_date'], format='%Y-%m-%d')\n",
    "sunat_final['comm_start_date']=sunat_final['comm_start_date'].replace('9999-12-31','2100-12-31')\n",
    "sunat_final['comm_start_date']=pd.to_datetime(sunat_final['comm_start_date'], format='%Y-%m-%d')\n",
    "\n",
    "from datetime import datetime, timedelta\n",
    "now = datetime.now()\n",
    "sunat_final['diferencia_inicio_sunat']=(now-sunat_final['taxpayer_start_date']).astype(\"timedelta64[D]\")\n",
    "sunat_final['diferecia_fin_sunat']=(now-sunat_final['taxpayer_end_date']).astype(\"timedelta64[D]\")\n",
    "sunat_final['diferecia_end-start_sunat']=np.where(sunat_final['taxpayer_start_date']!='2100-12-31',(sunat_final['taxpayer_end_date']-sunat_final['taxpayer_start_date']).astype(\"timedelta64[D]\"),0)\n",
    "sunat_final['diferecia_start-iniciodeactividades_sunat']=(sunat_final['taxpayer_start_date']-sunat_final['comm_start_date']).astype(\"timedelta64[D]\")\n",
    "sunat_final['no_sigue_en_sunat'] = np.where(sunat_final['taxpayer_end_date']=='2100-12-31', 1, 0)\n",
    "sunat_final['diferecia_fin_sunat']=np.where(sunat_final['diferecia_fin_sunat']<0,0,sunat_final['diferecia_fin_sunat'])\n",
    "sunat_final['tenemos_inicio']=np.where(sunat_final['comm_start_date']!='2100-12-31',1,0)\n",
    "sunat_final.company_economic_activity_id=sunat_final.company_economic_activity_id.replace('-',-1).astype('int64')\n",
    "sunat_final.comm_start_date=np.where(sunat_final.comm_start_date.isnull(),sunat_final.taxpayer_start_date,sunat_final.comm_start_date)\n",
    "sunat_final=sunat_final.replace(np.nan,0)\n",
    "sunat_final=sunat_final.drop(columns=['personal_type','cutoff_date'])"
   ]
  },
  {
   "cell_type": "markdown",
   "metadata": {},
   "source": [
    "# Sunarp"
   ]
  },
  {
   "cell_type": "code",
   "execution_count": 33,
   "metadata": {},
   "outputs": [
    {
     "name": "stderr",
     "output_type": "stream",
     "text": [
      "C:\\Users\\Bucanero2010\\AppData\\Roaming\\Python\\Python37\\site-packages\\pandas\\core\\generic.py:5159: SettingWithCopyWarning: \n",
      "A value is trying to be set on a copy of a slice from a DataFrame.\n",
      "Try using .loc[row_indexer,col_indexer] = value instead\n",
      "\n",
      "See the caveats in the documentation: https://pandas.pydata.org/pandas-docs/stable/user_guide/indexing.html#returning-a-view-versus-a-copy\n",
      "  object.__setattr__(self, name, value)\n"
     ]
    }
   ],
   "source": [
    "dict_resgistro = {'Cambio de Nombre/Denominación':'Cambio de Nombre','Inscripción de Vehóculo':'Inscripción de Vehículo',\n",
    "                 'Posesión Desconocida':'Posesión Desconocida','Reemplacamiento':'Posesión Desconocida','S/D':'Posesión Desconocida',\n",
    "                 'Transf x Cambio de Est.Civil':'Transferencia de Propiedad','Transferencia de Propiedad':'Transferencia de Propiedad'}\n",
    "dict_vehiculo = {'AUTOMOVIL':'Auto','STAT.WAGON':'Auto','VEH.AUT.MEN.':'Moto','L3':'Moto','L5':'Moto',\n",
    "                'CMTARURAL':'Camioneta','CMTAPICKUP':'Camioneta','CMTAPANEL':'Camioneta','M1':'Camioneta',\n",
    "                'CAMION':'V-Grande','REMOLCADOR':'V-Grande','OMNIBUS':'V-Grande','SEMIREMOLQUE':'V-Grande','REMOLQUE':'V-Grande','N1':'V-Grande'}\n",
    "\n",
    "sunarp.drop_duplicates(inplace=True)\n",
    "sunarp = sunarp[~(sunarp['vehicle_class_type'].isnull())]\n",
    "sunarp = sunarp[sunarp.vehicle_manufacture_year_id>1800]\n",
    "sunarp.ownership_issued_date = sunarp.ownership_issued_date.str[:4]\n",
    "\n",
    "registry_type = sunarp.ownership_registry_type.str.rsplit(' - ',n=1,expand=True)\n",
    "sunarp['registry_type'] = registry_type[0].str.replace('�','ó',regex=True)\n",
    "sunarp.registry_type = sunarp.registry_type.str.replace('Transferencia de Propiedad - Compra','Transferencia de Propiedad',regex=True)\n",
    "sunarp.vehicle_class_type = sunarp.vehicle_class_type.str.replace(' ','',regex=True)\n",
    "sunarp.transferred_number = sunarp.transferred_number.replace(np.nan,1)\n",
    "sunarp.registry_type = sunarp.registry_type.replace(np.nan,'Posesión Desconocida')\n",
    "\n",
    "sunarp.registry_type =sunarp.registry_type.map(dict_resgistro)\n",
    "sunarp.vehicle_class_type = sunarp.vehicle_class_type.map(dict_vehiculo)\n",
    "\n",
    "sunarp.drop(columns={'personal_type','cutoff_date','ownership_registry_type','vehicle_chassis_type'},inplace=True)\n",
    "sunarp = sunarp.iloc[:,[0,5,2,1,3,4]]\n",
    "\n",
    "sunarp_1 = sunarp[~(sunarp.ownership_issued_date.isnull())]\n",
    "sunarp_2 = sunarp[sunarp.ownership_issued_date.isnull()]\n",
    "sunarp_2.ownership_issued_date = sunarp_2.vehicle_manufacture_year_id\n",
    "sunarp = pd.concat([sunarp_1,sunarp_2])\n",
    "sunarp.ownership_issued_date = sunarp.ownership_issued_date.astype('float64')\n",
    "sunarp['dif_time'] = sunarp['ownership_issued_date']-sunarp['vehicle_manufacture_year_id']\n",
    "\n",
    "sunarp=sunarp.replace(['á','é','í','ó','ú','ñ'],['a','e','i','o','u','n'])\n",
    "aggp={'ownership_issued_date':['max','mean'],'vehicle_manufacture_year_id':['max','min','mean'],\n",
    "      'transferred_number':['sum'],'dif_time':['min','max','std']}\n",
    "sunarp=sunarp.groupby(['personal_id','vehicle_class_type']).agg(aggp)\n",
    "sunarp.columns=[a+'_'+b for a,b in sunarp.columns]\n",
    "sunarp=sunarp.unstack().reset_index().fillna(0)\n",
    "sunarp.columns=[a+'_'+b for a,b in sunarp.columns]"
   ]
  },
  {
   "cell_type": "markdown",
   "metadata": {},
   "source": [
    "# Digital"
   ]
  },
  {
   "cell_type": "code",
   "execution_count": null,
   "metadata": {},
   "outputs": [],
   "source": [
    "digital=digital.replace('SI',1).replace('NO',0).replace('9999-12-31','2100-12-31')\n",
    "digital['digital_date']=pd.DatetimeIndex(digital['digital_affiliation_date']).year.astype('int')*100+pd.DatetimeIndex(digital['digital_affiliation_date']).month.astype('int')\n",
    "digital['online_banking_date']=pd.DatetimeIndex(digital['online_banking_affiliation_date']).year.astype('int')*100+pd.DatetimeIndex(digital['online_banking_affiliation_date']).month.astype('int')\n",
    "digital['sms_date']=pd.DatetimeIndex(digital['sms_affiliation_date']).year.astype('int')*100+pd.DatetimeIndex(digital['sms_affiliation_date']).month.astype('int')\n",
    "digital['sum_flags_digitales']=digital.online_banking_affiliation_type+digital.sms_affiliation_type+digital.digital_affiliation_type\n",
    "digital=digital.drop(columns=['digital_affiliation_date','online_banking_affiliation_date','sms_affiliation_date','cutoff_date'])"
   ]
  },
  {
   "cell_type": "markdown",
   "metadata": {},
   "source": [
    "# Transacciones"
   ]
  },
  {
   "cell_type": "code",
   "execution_count": 31,
   "metadata": {},
   "outputs": [],
   "source": [
    "trans.COD_PERSONOR=trans.COD_PERSONOR.replace(np.nan,-1).astype('int64')\n",
    "trans.COD_PERSONDE=trans.COD_PERSONDE.replace(np.nan,-1).astype('int64')\n",
    "\n",
    "trans['HMS_OPER']=('000000'+trans.HMS_OPER.astype('str')).str[-6:]\n",
    "trans['FEC_OPER']=trans['FEC_OPER'].astype(\"datetime64[ns]\")\n",
    "trans['hora_op']=trans.HMS_OPER.str[0:2].astype('int')\n",
    "trans['minuto_op']=trans.HMS_OPER.str[2:4].astype('int')\n",
    "trans['dia_op']=pd.DatetimeIndex(trans['FEC_OPER']).day.astype('int')\n",
    "trans['mes_op']=pd.DatetimeIndex(trans['FEC_OPER']).month.astype('int')\n",
    "trans['anio_op']=pd.DatetimeIndex(trans['FEC_OPER']).year.astype('int')\n",
    "trans['mesanio_op']=trans.anio_op*100+trans.mes_op\n",
    "\n",
    "aggp1={'COD_PERSONDE':['nunique'],'IMP_IMPOPER':['sum','median','mean','max','min','std'],'FEC_OPER':['nunique'],\n",
    "      'IDW_CANAL':['nunique',lambda x:x.value_counts().index[0]],\n",
    "       'COD_TRANSAC':['nunique',lambda x:x.value_counts().index[0]],'hora_op':['mean','median'],\n",
    "     'HMS_OPER':['count'],'mesanio_op':['nunique','max','min']}\n",
    "t_cliente=trans.groupby(['COD_PERSONOR']).agg(aggp1)\n",
    "\n",
    "aggp2={'COD_PERSONOR':['nunique'],'IMP_IMPOPER':['sum','median','mean','max','min','std'],'FEC_OPER':['nunique'],\n",
    "      'IDW_CANAL':['nunique',lambda x:x.value_counts().index[0]],\n",
    "       'COD_TRANSAC':['nunique',lambda x:x.value_counts().index[0]],'hora_op':['mean','median'],\n",
    "     'HMS_OPER':['count'],'mesanio_op':['nunique','max','min']}\n",
    "t_vendedor=trans.groupby(['COD_PERSONDE']).agg(aggp2)\n",
    "\n",
    "t_cliente.columns=['cli_'+a+'_'+b for a,b in t_cliente.columns]\n",
    "t_vendedor.columns=['ven_'+a+'_'+b for a,b in t_vendedor.columns]\n",
    "\n",
    "t_cliente['cli_ticket_promedio']=t_cliente.cli_IMP_IMPOPER_sum/t_cliente.cli_HMS_OPER_count\n",
    "t_cliente['cli_monto_diario']=t_cliente.cli_IMP_IMPOPER_sum/t_cliente.cli_FEC_OPER_nunique\n",
    "t_cliente['cli_monto_mensual']=t_cliente.cli_IMP_IMPOPER_sum/t_cliente.cli_mesanio_op_nunique\n",
    "t_cliente['cli_trans_diarias']=t_cliente.cli_HMS_OPER_count/t_cliente.cli_FEC_OPER_nunique\n",
    "t_cliente['cli_trans_mensual']=t_cliente.cli_HMS_OPER_count/t_cliente.cli_mesanio_op_nunique\n",
    "\n",
    "t_vendedor['ven_ticket_promedio']=t_vendedor.ven_IMP_IMPOPER_sum/t_vendedor.ven_HMS_OPER_count\n",
    "t_vendedor['ven_monto_diario']=t_vendedor.ven_IMP_IMPOPER_sum/t_vendedor.ven_FEC_OPER_nunique\n",
    "t_vendedor['ven_monto_mensual']=t_vendedor.ven_IMP_IMPOPER_sum/t_vendedor.ven_mesanio_op_nunique\n",
    "t_vendedor['ven_trans_diarias']=t_vendedor.ven_HMS_OPER_count/t_vendedor.ven_FEC_OPER_nunique\n",
    "t_vendedor['ven_trans_mensual']=t_vendedor.ven_HMS_OPER_count/t_vendedor.ven_mesanio_op_nunique\n",
    "\n",
    "enc_canal=trans.groupby('IDW_CANAL').IMP_IMPOPER.median().sort_values().reset_index()\n",
    "enc_canal['ind']=range(1,len(enc_canal)+1)\n",
    "enc_canal=enc_canal.drop(columns=['IMP_IMPOPER']).set_index('IDW_CANAL')['ind']\n",
    "t_cliente['cli_IDW_CANAL_<lambda_0>']=t_cliente['cli_IDW_CANAL_<lambda_0>'].map(enc_canal)\n",
    "t_vendedor['ven_IDW_CANAL_<lambda_0>']=t_vendedor['ven_IDW_CANAL_<lambda_0>'].map(enc_canal)\n",
    "\n",
    "enc_codtransac=trans.groupby('COD_TRANSAC').IMP_IMPOPER.median().sort_values().reset_index()\n",
    "enc_codtransac['ind']=range(1,len(enc_codtransac)+1)\n",
    "enc_codtransac=enc_codtransac.drop(columns=['IMP_IMPOPER']).set_index('COD_TRANSAC')['ind']\n",
    "t_cliente['cli_COD_TRANSAC_<lambda_0>']=t_cliente['cli_COD_TRANSAC_<lambda_0>'].map(enc_codtransac)\n",
    "t_vendedor['ven_COD_TRANSAC_<lambda_0>']=t_vendedor['ven_COD_TRANSAC_<lambda_0>'].map(enc_codtransac)\n",
    "\n",
    "t_cliente=t_cliente.reset_index()\n",
    "t_vendedor=t_vendedor.reset_index()"
   ]
  },
  {
   "cell_type": "markdown",
   "metadata": {},
   "source": [
    "# RFM"
   ]
  },
  {
   "cell_type": "code",
   "execution_count": 553,
   "metadata": {},
   "outputs": [],
   "source": [
    "fechas=trans.groupby('COD_PERSONOR')['FEC_OPER'].max().astype(\"datetime64[ns]\")\n",
    "d=pd.Series(['2020-12-05']*len(fechas))\n",
    "dias=(pd.DatetimeIndex(d)-fechas).dt.days.astype('int').reset_index()\n",
    "RFM=t_cliente[['COD_PERSONOR','cli_ticket_promedio','cli_HMS_OPER_count']]\n",
    "RFM=RFM.merge(dias,on=['COD_PERSONOR'])\n",
    "RFM.columns=['codigo','Monetary value','Frequency','Recency']"
   ]
  },
  {
   "cell_type": "code",
   "execution_count": 554,
   "metadata": {},
   "outputs": [],
   "source": [
    "recency_cleaned = RFM[RFM['Recency']<RFM['Recency'].quantile(0.99)]\n",
    "frequency_cleaned = RFM[RFM['Frequency']<RFM['Frequency'].quantile(0.99)]\n",
    "monetary_cleaned = RFM[RFM['Monetary value']<RFM['Monetary value'].quantile(0.99)]\n",
    "\n",
    "rfm_table=pd.merge(pd.merge(recency_cleaned[['codigo','Recency','Frequency','Monetary value']],frequency_cleaned[['codigo']],on='codigo'),monetary_cleaned[['codigo']],on='codigo')"
   ]
  },
  {
   "cell_type": "code",
   "execution_count": 555,
   "metadata": {},
   "outputs": [
    {
     "data": {
      "text/plain": [
       "<matplotlib.axes._subplots.AxesSubplot at 0x1e127181710>"
      ]
     },
     "execution_count": 555,
     "metadata": {},
     "output_type": "execute_result"
    },
    {
     "data": {
      "image/png": "[encoded data removed]",
      "text/plain": [
       "<Figure size 432x288 with 1 Axes>"
      ]
     },
     "metadata": {
      "needs_background": "light"
     },
     "output_type": "display_data"
    }
   ],
   "source": [
    "sns.distplot(rfm_table[\"Monetary value\"],kde=True,hist=False)"
   ]
  },
  {
   "cell_type": "code",
   "execution_count": 556,
   "metadata": {},
   "outputs": [
    {
     "data": {
      "text/plain": [
       "<matplotlib.axes._subplots.AxesSubplot at 0x1e189d4e208>"
      ]
     },
     "execution_count": 556,
     "metadata": {},
     "output_type": "execute_result"
    },
    {
     "data": {
      "image/png": "[encoded data removed]",
      "text/plain": [
       "<Figure size 432x288 with 1 Axes>"
      ]
     },
     "metadata": {
      "needs_background": "light"
     },
     "output_type": "display_data"
    }
   ],
   "source": [
    "sns.distplot(rfm_table[\"Frequency\"],kde=True,hist=False)"
   ]
  },
  {
   "cell_type": "code",
   "execution_count": 564,
   "metadata": {},
   "outputs": [
    {
     "data": {
      "text/plain": [
       "<matplotlib.axes._subplots.AxesSubplot at 0x1e190925390>"
      ]
     },
     "execution_count": 564,
     "metadata": {},
     "output_type": "execute_result"
    },
    {
     "data": {
      "image/png": "[encoded data removed]",
      "text/plain": [
       "<Figure size 432x288 with 1 Axes>"
      ]
     },
     "metadata": {
      "needs_background": "light"
     },
     "output_type": "display_data"
    }
   ],
   "source": [
    "sns.distplot(rfm_table[\"Recency\"],kde=True,hist=False)"
   ]
  },
  {
   "cell_type": "code",
   "execution_count": 558,
   "metadata": {},
   "outputs": [
    {
     "name": "stderr",
     "output_type": "stream",
     "text": [
      "C:\\ProgramData\\Anaconda3\\lib\\site-packages\\ipykernel_launcher.py:8: SettingWithCopyWarning: \n",
      "A value is trying to be set on a copy of a slice from a DataFrame.\n",
      "Try using .loc[row_indexer,col_indexer] = value instead\n",
      "\n",
      "See the caveats in the documentation: https://pandas.pydata.org/pandas-docs/stable/user_guide/indexing.html#returning-a-view-versus-a-copy\n",
      "  \n",
      "C:\\ProgramData\\Anaconda3\\lib\\site-packages\\ipykernel_launcher.py:8: SettingWithCopyWarning: \n",
      "A value is trying to be set on a copy of a slice from a DataFrame.\n",
      "Try using .loc[row_indexer,col_indexer] = value instead\n",
      "\n",
      "See the caveats in the documentation: https://pandas.pydata.org/pandas-docs/stable/user_guide/indexing.html#returning-a-view-versus-a-copy\n",
      "  \n",
      "C:\\ProgramData\\Anaconda3\\lib\\site-packages\\ipykernel_launcher.py:8: SettingWithCopyWarning: \n",
      "A value is trying to be set on a copy of a slice from a DataFrame.\n",
      "Try using .loc[row_indexer,col_indexer] = value instead\n",
      "\n",
      "See the caveats in the documentation: https://pandas.pydata.org/pandas-docs/stable/user_guide/indexing.html#returning-a-view-versus-a-copy\n",
      "  \n",
      "C:\\ProgramData\\Anaconda3\\lib\\site-packages\\ipykernel_launcher.py:8: SettingWithCopyWarning: \n",
      "A value is trying to be set on a copy of a slice from a DataFrame.\n",
      "Try using .loc[row_indexer,col_indexer] = value instead\n",
      "\n",
      "See the caveats in the documentation: https://pandas.pydata.org/pandas-docs/stable/user_guide/indexing.html#returning-a-view-versus-a-copy\n",
      "  \n",
      "C:\\ProgramData\\Anaconda3\\lib\\site-packages\\ipykernel_launcher.py:8: SettingWithCopyWarning: \n",
      "A value is trying to be set on a copy of a slice from a DataFrame.\n",
      "Try using .loc[row_indexer,col_indexer] = value instead\n",
      "\n",
      "See the caveats in the documentation: https://pandas.pydata.org/pandas-docs/stable/user_guide/indexing.html#returning-a-view-versus-a-copy\n",
      "  \n",
      "C:\\ProgramData\\Anaconda3\\lib\\site-packages\\ipykernel_launcher.py:8: SettingWithCopyWarning: \n",
      "A value is trying to be set on a copy of a slice from a DataFrame.\n",
      "Try using .loc[row_indexer,col_indexer] = value instead\n",
      "\n",
      "See the caveats in the documentation: https://pandas.pydata.org/pandas-docs/stable/user_guide/indexing.html#returning-a-view-versus-a-copy\n",
      "  \n",
      "C:\\ProgramData\\Anaconda3\\lib\\site-packages\\ipykernel_launcher.py:8: SettingWithCopyWarning: \n",
      "A value is trying to be set on a copy of a slice from a DataFrame.\n",
      "Try using .loc[row_indexer,col_indexer] = value instead\n",
      "\n",
      "See the caveats in the documentation: https://pandas.pydata.org/pandas-docs/stable/user_guide/indexing.html#returning-a-view-versus-a-copy\n",
      "  \n",
      "C:\\ProgramData\\Anaconda3\\lib\\site-packages\\ipykernel_launcher.py:8: SettingWithCopyWarning: \n",
      "A value is trying to be set on a copy of a slice from a DataFrame.\n",
      "Try using .loc[row_indexer,col_indexer] = value instead\n",
      "\n",
      "See the caveats in the documentation: https://pandas.pydata.org/pandas-docs/stable/user_guide/indexing.html#returning-a-view-versus-a-copy\n",
      "  \n",
      "C:\\ProgramData\\Anaconda3\\lib\\site-packages\\ipykernel_launcher.py:8: SettingWithCopyWarning: \n",
      "A value is trying to be set on a copy of a slice from a DataFrame.\n",
      "Try using .loc[row_indexer,col_indexer] = value instead\n",
      "\n",
      "See the caveats in the documentation: https://pandas.pydata.org/pandas-docs/stable/user_guide/indexing.html#returning-a-view-versus-a-copy\n",
      "  \n"
     ]
    },
    {
     "data": {
      "image/png": "[encoded data removed]",
      "text/plain": [
       "<Figure size 432x288 with 1 Axes>"
      ]
     },
     "metadata": {
      "needs_background": "light"
     },
     "output_type": "display_data"
    }
   ],
   "source": [
    "\n",
    "#Finding Optimum Clusters\n",
    "\n",
    "sse={}\n",
    "tx_recency = rfm_table[['Recency']]\n",
    "for k in range(1, 10):\n",
    "    kmeans = KMeans(n_clusters=k, max_iter=1000).fit(tx_recency)\n",
    "    tx_recency[\"clusters\"] = kmeans.labels_\n",
    "    sse[k] = kmeans.inertia_ \n",
    "plt.figure()\n",
    "plt.plot(list(sse.keys()), list(sse.values()))\n",
    "plt.xlabel(\"Number of cluster\")\n",
    "plt.show()\n",
    "\n",
    "#### Function for ordering clusters\n",
    "def order_cluster(cluster_field_name, target_field_name, df, ascending):\n",
    "    new_cluster_field_name = 'new_'+cluster_field_name\n",
    "    df_new = df.groupby(cluster_field_name)[target_field_name].mean().reset_index()\n",
    "    df_new = df_new.sort_values(by=target_field_name, ascending = ascending).reset_index(drop=True)\n",
    "    df_new['index']=df_new.index\n",
    "    df_final = pd.merge(df, df_new[[cluster_field_name, 'index']], on=cluster_field_name)\n",
    "    df_final = df_final.drop([cluster_field_name], axis=1)\n",
    "    df_final = df_final.rename(columns={\"index\":cluster_field_name})\n",
    "    return df_final\n",
    "  \n",
    "#Recency Clusters\n",
    "kmeans = KMeans(n_clusters=3)\n",
    "kmeans.fit(rfm_table[['Recency']])\n",
    "rfm_table['RecencyCluster']=kmeans.predict(rfm_table[['Recency']])\n",
    "rfm_table = order_cluster('RecencyCluster','Recency', rfm_table, False)\n",
    "\n",
    "#Frequency Clusters\n",
    "kmeans = KMeans(n_clusters=3)\n",
    "kmeans.fit(rfm_table[['Frequency']])\n",
    "rfm_table['FrequencyCluster']=kmeans.predict(rfm_table[['Frequency']])\n",
    "rfm_table = order_cluster('FrequencyCluster','Frequency', rfm_table, True)\n",
    "\n",
    "#Monetary Clusters\n",
    "kmeans = KMeans(n_clusters=3)\n",
    "kmeans.fit(rfm_table[['Monetary value']])\n",
    "rfm_table['MonetaryCluster']=kmeans.predict(rfm_table[['Monetary value']])\n",
    "rfm_table = order_cluster('MonetaryCluster','Monetary value', rfm_table, True)\n",
    "\n",
    "# Define a function to map the values \n",
    "def set_value(row_number, assigned_value): \n",
    "    return assigned_value[row_number] \n",
    "  \n",
    "# Creating Recency Custer Tag Column\n",
    "c=rfm_table.groupby('RecencyCluster')['Recency'].agg(['min','max','mean']).reset_index()\n",
    "r1='<='+str(c.iloc[2,2]) \n",
    "r2=str(c.iloc[1,1])+' to '+str(c.iloc[1,2]) \n",
    "r3='>='+str(c.iloc[0,1])\n",
    "# Create the dictionary \n",
    "R ={0 : r3, 1 : r2, 2 : r1} \n",
    "rfm_table['RecencyClusterTag']=rfm_table['RecencyCluster'].apply(set_value, args =(R, )) \n",
    "\n",
    "# Creating Frequency Custer Tag Column\n",
    "a=rfm_table.groupby('FrequencyCluster')['Frequency'].agg(['min','max','mean']).reset_index()\n",
    "f1='<='+str(a.iloc[0,2]) \n",
    "f2=str(a.iloc[1,1])+' to '+str(a.iloc[1,2]) \n",
    "f3='>='+str(a.iloc[2,1])\n",
    "# Create the dictionary \n",
    "F ={0 : f1, 1 : f2, 2 :f3} \n",
    "rfm_table['FrequencyClusterTag']=rfm_table['FrequencyCluster'].apply(set_value, args =(F, )) \n",
    "\n",
    "# Creating Monetary Custer Tag Column\n",
    "b=rfm_table.groupby('MonetaryCluster')['Monetary value'].agg(['min','max','mean']).reset_index()\n",
    "m1='<='+str(int(round(b.iloc[0,2]))) \n",
    "m2=str(int(round(b.iloc[0,2])+1))+' to '+str(int(round(b.iloc[1,2]))) \n",
    "m3='>='+str(int(round(b.iloc[1,2])+1))\n",
    "# Create the dictionary \n",
    "M ={0 : m1, 1 : m2, 2 :m3} \n",
    "rfm_table['MonetaryClusterTag']=rfm_table['MonetaryCluster'].apply(set_value, args =(M, )) \n",
    "\n",
    "rfm_table[\"FrequencyClusterTag\"] = rfm_table[\"FrequencyClusterTag\"].astype(pd.api.types.CategoricalDtype(categories=[f1, f2, f3]))\n",
    "rfm_table[\"MonetaryClusterTag\"] = rfm_table[\"MonetaryClusterTag\"].astype(pd.api.types.CategoricalDtype(categories=[m1, m2,m3]))\n",
    "rfm_table[\"RecencyClusterTag\"] = rfm_table[\"RecencyClusterTag\"].astype(pd.api.types.CategoricalDtype(categories=[r1, r2,r3]))"
   ]
  },
  {
   "cell_type": "code",
   "execution_count": 568,
   "metadata": {},
   "outputs": [],
   "source": [
    "rfm_table['RecencyCOD']=rfm_table.RecencyClusterTag.replace(['<=95','121 to 267','>=274'],[0,1,2])\n",
    "rfm_table['FrequencyCOD']=rfm_table.FrequencyClusterTag.replace(['<=240','241 to 824','>=826'],[0,1,2])\n",
    "rfm_table['MonetaryCOD']=rfm_table.MonetaryClusterTag.replace(['<=6347','6348 to 22333','>=22334'],[0,1,2])\n",
    "rfm_table['RFM_Score']=rfm_table['RecencyCOD']+rfm_table['FrequencyCOD']+rfm_table['MonetaryCOD']"
   ]
  },
  {
   "cell_type": "code",
   "execution_count": 576,
   "metadata": {},
   "outputs": [],
   "source": [
    "import squarify"
   ]
  },
  {
   "cell_type": "code",
   "execution_count": 582,
   "metadata": {},
   "outputs": [
    {
     "data": {
      "text/html": [
       "<div>\n",
       "<style scoped>\n",
       "    .dataframe tbody tr th:only-of-type {\n",
       "        vertical-align: middle;\n",
       "    }\n",
       "\n",
       "    .dataframe tbody tr th {\n",
       "        vertical-align: top;\n",
       "    }\n",
       "\n",
       "    .dataframe thead tr th {\n",
       "        text-align: left;\n",
       "    }\n",
       "\n",
       "    .dataframe thead tr:last-of-type th {\n",
       "        text-align: right;\n",
       "    }\n",
       "</style>\n",
       "<table border=\"1\" class=\"dataframe\">\n",
       "  <thead>\n",
       "    <tr>\n",
       "      <th></th>\n",
       "      <th>Recency</th>\n",
       "      <th>Frequency</th>\n",
       "      <th colspan=\"2\" halign=\"left\">Monetary value</th>\n",
       "    </tr>\n",
       "    <tr>\n",
       "      <th></th>\n",
       "      <th>mean</th>\n",
       "      <th>mean</th>\n",
       "      <th>mean</th>\n",
       "      <th>count</th>\n",
       "    </tr>\n",
       "    <tr>\n",
       "      <th>RFM_Score</th>\n",
       "      <th></th>\n",
       "      <th></th>\n",
       "      <th></th>\n",
       "      <th></th>\n",
       "    </tr>\n",
       "  </thead>\n",
       "  <tbody>\n",
       "    <tr>\n",
       "      <th>0</th>\n",
       "      <td>24.6</td>\n",
       "      <td>67.5</td>\n",
       "      <td>1428.0</td>\n",
       "      <td>31117</td>\n",
       "    </tr>\n",
       "    <tr>\n",
       "      <th>1</th>\n",
       "      <td>108.8</td>\n",
       "      <td>138.1</td>\n",
       "      <td>2853.2</td>\n",
       "      <td>26530</td>\n",
       "    </tr>\n",
       "    <tr>\n",
       "      <th>2</th>\n",
       "      <td>225.0</td>\n",
       "      <td>258.6</td>\n",
       "      <td>5215.4</td>\n",
       "      <td>12541</td>\n",
       "    </tr>\n",
       "    <tr>\n",
       "      <th>3</th>\n",
       "      <td>218.9</td>\n",
       "      <td>240.3</td>\n",
       "      <td>19394.6</td>\n",
       "      <td>1638</td>\n",
       "    </tr>\n",
       "    <tr>\n",
       "      <th>4</th>\n",
       "      <td>306.7</td>\n",
       "      <td>179.5</td>\n",
       "      <td>33831.3</td>\n",
       "      <td>274</td>\n",
       "    </tr>\n",
       "    <tr>\n",
       "      <th>5</th>\n",
       "      <td>266.0</td>\n",
       "      <td>965.0</td>\n",
       "      <td>36105.7</td>\n",
       "      <td>1</td>\n",
       "    </tr>\n",
       "  </tbody>\n",
       "</table>\n",
       "</div>"
      ],
      "text/plain": [
       "          Recency Frequency Monetary value       \n",
       "             mean      mean           mean  count\n",
       "RFM_Score                                        \n",
       "0            24.6      67.5         1428.0  31117\n",
       "1           108.8     138.1         2853.2  26530\n",
       "2           225.0     258.6         5215.4  12541\n",
       "3           218.9     240.3        19394.6   1638\n",
       "4           306.7     179.5        33831.3    274\n",
       "5           266.0     965.0        36105.7      1"
      ]
     },
     "execution_count": 582,
     "metadata": {},
     "output_type": "execute_result"
    }
   ],
   "source": [
    "rfm_level_agg = rfm_table.groupby('RFM_Score').agg({\n",
    "    'Recency': 'mean',\n",
    "    'Frequency': 'mean',\n",
    "    'Monetary value': ['mean', 'count']\n",
    "}).round(1)\n",
    "rfm_level_agg"
   ]
  },
  {
   "cell_type": "code",
   "execution_count": 560,
   "metadata": {},
   "outputs": [
    {
     "data": {
      "text/plain": [
       "<matplotlib.axes._subplots.AxesSubplot at 0x1e189dfc9b0>"
      ]
     },
     "execution_count": 560,
     "metadata": {},
     "output_type": "execute_result"
    },
    {
     "data": {
      "image/png": "[encoded data removed]",
      "text/plain": [
       "<Figure size 432x288 with 1 Axes>"
      ]
     },
     "metadata": {
      "needs_background": "light"
     },
     "output_type": "display_data"
    }
   ],
   "source": [
    "sns.countplot(x=\"RecencyClusterTag\", data=rfm_table)"
   ]
  },
  {
   "cell_type": "code",
   "execution_count": 561,
   "metadata": {},
   "outputs": [
    {
     "data": {
      "text/plain": [
       "<matplotlib.axes._subplots.AxesSubplot at 0x1e1903e2048>"
      ]
     },
     "execution_count": 561,
     "metadata": {},
     "output_type": "execute_result"
    },
    {
     "data": {
      "image/png": "[encoded data removed]",
      "text/plain": [
       "<Figure size 432x288 with 1 Axes>"
      ]
     },
     "metadata": {
      "needs_background": "light"
     },
     "output_type": "display_data"
    }
   ],
   "source": [
    "sns.countplot(x=\"FrequencyClusterTag\", data=rfm_table)"
   ]
  },
  {
   "cell_type": "code",
   "execution_count": 562,
   "metadata": {},
   "outputs": [
    {
     "data": {
      "text/plain": [
       "<matplotlib.axes._subplots.AxesSubplot at 0x1e1908d35c0>"
      ]
     },
     "execution_count": 562,
     "metadata": {},
     "output_type": "execute_result"
    },
    {
     "data": {
      "image/png": "[encoded data removed]",
      "text/plain": [
       "<Figure size 432x288 with 1 Axes>"
      ]
     },
     "metadata": {
      "needs_background": "light"
     },
     "output_type": "display_data"
    }
   ],
   "source": [
    "sns.countplot(x=\"MonetaryClusterTag\", data=rfm_table)"
   ]
  },
  {
   "cell_type": "code",
   "execution_count": 587,
   "metadata": {},
   "outputs": [
    {
     "data": {
      "image/png": "[encoded data removed]",
      "text/plain": [
       "<Figure size 864x576 with 1 Axes>"
      ]
     },
     "metadata": {
      "needs_background": "light"
     },
     "output_type": "display_data"
    }
   ],
   "source": [
    "fig = plt.gcf()\n",
    "ax = fig.add_subplot()\n",
    "fig.set_size_inches(12, 8)\n",
    "squarify.plot(sizes=rfm_level_agg['Count'], \n",
    "              label=['0',\n",
    "                     '1',\n",
    "                     '2',\n",
    "                     '3',\n",
    "                     '4', \n",
    "                     '5'], alpha=0.8 )\n",
    "plt.title(\"RFM Segments\",fontsize=18,fontweight=\"bold\")\n",
    "plt.axis('off')\n",
    "plt.show()"
   ]
  },
  {
   "cell_type": "markdown",
   "metadata": {},
   "source": [
    "# RCC y creacion de target"
   ]
  },
  {
   "cell_type": "code",
   "execution_count": 316,
   "metadata": {},
   "outputs": [],
   "source": [
    "rcc.loc[(rcc['situacion_credito'] == 'VIGENTE'), 'target'] = 1\n",
    "rcc.loc[(rcc['situacion_credito'] == 'VENCIDO'), 'target'] = 0\n",
    "rcc.loc[(rcc['situacion_credito'] == 'JUDICIAL'), 'target'] = 0\n",
    "rcc.loc[(rcc['situacion_credito'] == 'REFINANCIADO'), 'target'] = 0\n",
    "\n",
    "q5=rcc.groupby(['sbs_customer_id','target'])['balance_amount'].count().unstack().add_prefix('countestado').reset_index().fillna(0)\n",
    "q6=rcc.groupby(['sbs_customer_id','target'])['balance_amount'].mean().unstack().add_prefix('avg_deudaestado').reset_index().fillna(0)\n",
    "\n",
    "train = q5.merge(q6, on='sbs_customer_id')\n",
    "\n",
    "train_f=train.copy()\n",
    "train=train.drop(columns=['sbs_customer_id'])\n",
    "\n",
    "from sklearn.preprocessing import StandardScaler\n",
    "columnas=train.columns\n",
    "scaler = StandardScaler()\n",
    "train=scaler.fit_transform(train)\n",
    "train=pd.DataFrame(train,columns=columnas)\n",
    "\n",
    "from sklearn.cluster import KMeans\n",
    "kmeans = KMeans(n_clusters=2, random_state=0).fit(train)\n",
    "train['cluster']=kmeans.labels_\n",
    "\n",
    "train_f['cluster']=train['cluster']"
   ]
  },
  {
   "cell_type": "markdown",
   "metadata": {},
   "source": [
    "# Tabla final"
   ]
  },
  {
   "cell_type": "code",
   "execution_count": 70,
   "metadata": {},
   "outputs": [],
   "source": [
    "full_sunat=sunat_final.merge(ranking,left_on='company_economic_activity_id',right_on='company_economic_activity_id_',how='left').replace(np.nan,0)\n",
    "full_sunat.taxpayer_id=full_sunat.taxpayer_id.astype('int64')\n",
    "full_data=data.merge(full_sunat,on=['taxpayer_id'],how='left').merge(sunarp,left_on=['personal_id_x'],right_on=['personal_id_'],how='left').merge(digital,left_on=['customer_id'],right_on=['customer_id'],how='left').merge(t_cliente,left_on=['customer_id'],right_on=['COD_PERSONOR'],how='left').merge(t_vendedor,left_on=['customer_id'],right_on=['COD_PERSONDE'],how='left').replace(np.nan,0)\n",
    "full_data=full_data.drop(columns=['personal_id_y','admission_date'])"
   ]
  },
  {
   "cell_type": "markdown",
   "metadata": {},
   "source": [
    "# Entrenamiento y prueba de modelos"
   ]
  },
  {
   "cell_type": "code",
   "execution_count": 389,
   "metadata": {},
   "outputs": [],
   "source": [
    "training=full_data.merge(train_f[['sbs_customer_id','cluster']],on=['sbs_customer_id'])"
   ]
  },
  {
   "cell_type": "code",
   "execution_count": 391,
   "metadata": {},
   "outputs": [],
   "source": [
    "training=training.drop(columns=['company_economic_activity_id','COD_PERSONDE','COD_PERSONOR'])"
   ]
  },
  {
   "cell_type": "code",
   "execution_count": 412,
   "metadata": {},
   "outputs": [],
   "source": [
    "X=training.iloc[:,5:-1]\n",
    "y=training.iloc[:,-1]"
   ]
  },
  {
   "cell_type": "code",
   "execution_count": 444,
   "metadata": {},
   "outputs": [],
   "source": [
    "import sklearn.metrics as metrics\n",
    "def optimize_cutoff(X,y,model,folds=5,escaler=5):\n",
    "    from sklearn.model_selection import StratifiedKFold\n",
    "    skf = StratifiedKFold(n_splits=folds)\n",
    "\n",
    "    test_scores=[]\n",
    "    cutoffs=[]\n",
    "    s_preds=[]\n",
    "    s_test=[]    \n",
    "\n",
    "    for train_index, test_index in skf.split(X,y):\n",
    "        X_train, X_test = X.iloc[train_index,:], X.iloc[test_index,:]\n",
    "        y_train, y_test = y[train_index], y[test_index]\n",
    "        X2_train, y2_train = resamp(X_train,y_train,escaler)\n",
    "        model.fit(X2_train,y2_train)\n",
    "        p=model.predict_proba(X_test)\n",
    "        probas=p[:,-1]\n",
    "        fpr, tpr, threshold = metrics.roc_curve(y_test, probas)\n",
    "        maximo=0\n",
    "        t=0\n",
    "        for i in threshold:\n",
    "            preds=(probas>i).astype('int')\n",
    "            s=f1_score(preds,y_test)\n",
    "            if s>maximo:\n",
    "                maximo=s\n",
    "                t=i\n",
    "        preds=(probas>t).astype('int')\n",
    "        s_preds.append(sum(preds)/sum(y_test))\n",
    "        test_scores.append(maximo)\n",
    "        cutoffs.append(t)\n",
    "        \n",
    "    print('f1_score promedio: {}'.format(sum(test_scores)/folds))\n",
    "    return sum(cutoffs)/folds"
   ]
  },
  {
   "cell_type": "code",
   "execution_count": 445,
   "metadata": {},
   "outputs": [],
   "source": [
    "def resamp(X_train,y_train,escaler=5):\n",
    "    df_temp=pd.concat([X_train,y_train],axis=1)\n",
    "    from sklearn.utils import resample\n",
    "    df_majority = df_temp[df_temp.cluster==1]\n",
    "    df_minority = df_temp[df_temp.cluster==0]\n",
    "\n",
    "    # Upsample minority class\n",
    "    df_minority_upsampled = resample(df_minority, \n",
    "                                     replace=True,     # sample with replacement\n",
    "                                     n_samples=escaler*len(df_minority),    # to match majority class\n",
    "                                     random_state=123)\n",
    "    df_majority_downsampled = resample(df_majority, \n",
    "                                     replace=False,    # sample without replacement\n",
    "                                     n_samples=int(len(df_majority)),     # to match minority class\n",
    "                                     random_state=123)\n",
    "    df_temp= pd.concat([df_majority_downsampled, df_minority_upsampled])\n",
    "    Xtr,ytr = df_temp.iloc[:,:-1],df_temp.iloc[:,-1]\n",
    "    return Xtr,ytr"
   ]
  },
  {
   "cell_type": "code",
   "execution_count": 413,
   "metadata": {},
   "outputs": [],
   "source": [
    "from sklearn.preprocessing import StandardScaler\n",
    "columnas=X.columns\n",
    "scaler = StandardScaler()\n",
    "X=scaler.fit_transform(X)\n",
    "X=pd.DataFrame(X,columns=columnas)"
   ]
  },
  {
   "cell_type": "code",
   "execution_count": 394,
   "metadata": {},
   "outputs": [],
   "source": [
    "import lightgbm as lgb\n",
    "from sklearn.tree import DecisionTreeClassifier\n",
    "from sklearn.linear_model import LogisticRegression\n",
    "from sklearn.ensemble import RandomForestClassifier,ExtraTreesClassifier\n",
    "from sklearn.neighbors import KNeighborsClassifier\n",
    "from catboost import CatBoostClassifier\n",
    "from sklearn.neural_network import MLPClassifier\n",
    "from sklearn.ensemble import StackingClassifier,VotingClassifier\n",
    "import xgboost as xgb\n",
    "from sklearn.metrics import accuracy_score"
   ]
  },
  {
   "cell_type": "code",
   "execution_count": 452,
   "metadata": {},
   "outputs": [],
   "source": [
    "model=lgb.LGBMClassifier(n_estimators=15)\n",
    "model2=LogisticRegression(max_iter=1500,C=0.0001)\n",
    "model3=ExtraTreesClassifier(n_estimators=100)"
   ]
  },
  {
   "cell_type": "code",
   "execution_count": 446,
   "metadata": {},
   "outputs": [
    {
     "name": "stdout",
     "output_type": "stream",
     "text": [
      "f1_score promedio: 0.9481333200388923\n"
     ]
    }
   ],
   "source": [
    "opt_cutoff=optimize_cutoff(X,y,model,5,3)"
   ]
  },
  {
   "cell_type": "code",
   "execution_count": 447,
   "metadata": {},
   "outputs": [
    {
     "name": "stdout",
     "output_type": "stream",
     "text": [
      "f1_score promedio: 0.9477052728918357\n"
     ]
    }
   ],
   "source": [
    "opt_cutoff=optimize_cutoff(X,y,model2,5,3)"
   ]
  },
  {
   "cell_type": "code",
   "execution_count": 453,
   "metadata": {},
   "outputs": [
    {
     "name": "stdout",
     "output_type": "stream",
     "text": [
      "f1_score promedio: 0.9473667371634994\n"
     ]
    }
   ],
   "source": [
    "opt_cutoff=optimize_cutoff(X,y,model3,5,3)"
   ]
  },
  {
   "cell_type": "code",
   "execution_count": 461,
   "metadata": {},
   "outputs": [
    {
     "data": {
      "image/png": "[encoded data removed]",
      "text/plain": [
       "<Figure size 576x576 with 1 Axes>"
      ]
     },
     "metadata": {
      "needs_background": "light"
     },
     "output_type": "display_data"
    }
   ],
   "source": [
    "importances = model.feature_importances_\n",
    "indices = np.argsort(importances)[-25:]\n",
    "\n",
    "# Plot the feature importances of the forest\n",
    "plt.figure(figsize = (8,8))\n",
    "plt.title(\"Feature importances\")\n",
    "plt.barh(range(len(indices)), importances[indices],align=\"center\")\n",
    "# If you want to define your own labels,\n",
    "# change indices to a list of labels on the following line.\n",
    "plt.yticks(range(len(indices)), X[X.columns[indices]])#.columns[indices])\n",
    "plt.ylim([-1, len(indices)])\n",
    "plt.show()"
   ]
  },
  {
   "cell_type": "code",
   "execution_count": 460,
   "metadata": {},
   "outputs": [],
   "source": [
    "model_final=model.fit(X,y)"
   ]
  }
 ],
 "metadata": {
  "kernelspec": {
   "display_name": "Python 3",
   "language": "python",
   "name": "python3"
  },
  "language_info": {
   "codemirror_mode": {
    "name": "ipython",
    "version": 3
   },
   "file_extension": ".py",
   "mimetype": "text/x-python",
   "name": "python",
   "nbconvert_exporter": "python",
   "pygments_lexer": "ipython3",
   "version": "3.7.3"
  }
 },
 "nbformat": 4,
 "nbformat_minor": 2
}
